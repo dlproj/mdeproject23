{
  "nbformat": 4,
  "nbformat_minor": 0,
  "metadata": {
    "colab": {
      "provenance": []
    },
    "kernelspec": {
      "name": "python3",
      "display_name": "Python 3"
    },
    "language_info": {
      "name": "python"
    }
  },
  "cells": [
    {
      "cell_type": "code",
      "source": [
        "import os\n",
        "from pathlib import Path\n",
        "\n",
        "import matplotlib.pyplot as plt\n",
        "import numpy as np\n",
        "import pandas as pd"
      ],
      "metadata": {
        "id": "cKcnU0xkmV1R"
      },
      "execution_count": 1,
      "outputs": []
    },
    {
      "cell_type": "code",
      "source": [
        "from PIL import Image as im\n",
        "import glob"
      ],
      "metadata": {
        "id": "uQhhqvEYXM1C"
      },
      "execution_count": 2,
      "outputs": []
    },
    {
      "cell_type": "code",
      "source": [
        "!ls -l /content/drive/MyDrive/DataSet/CityScapes/"
      ],
      "metadata": {
        "id": "p2RLXR_VwdWg",
        "colab": {
          "base_uri": "https://localhost:8080/"
        },
        "outputId": "4437778d-bd81-4c25-d212-b062ff2b3650"
      },
      "execution_count": 5,
      "outputs": [
        {
          "output_type": "stream",
          "name": "stdout",
          "text": [
            "total 68683243\n",
            "-rw------- 1 root root       26651 Jan 10 05:25 index.html\n",
            "-rw------- 1 root root 47230218747 Mar 21  2016 leftImg8bit_trainextra.zip\n",
            "-rw------- 1 root root 11592327197 Mar 21  2016 leftImg8bit_trainvaltest.zip\n",
            "-rw------- 1 root root 11509067083 Mar 21  2016 rightImg8bit_trainvaltest.zip\n"
          ]
        }
      ]
    },
    {
      "cell_type": "code",
      "source": [
        "CS_ZIP_PATH = \"/content/drive/MyDrive/DataSet/CityScapes\"\n",
        "LEFT_IMAGE= CS_ZIP_PATH + \"/\" + \"leftImg8bit_trainvaltest.zip\"\n",
        "RIGHT_IMAGE= CS_ZIP_PATH + \"/\" + \"rightImg8bit_trainvaltest.zip\""
      ],
      "metadata": {
        "id": "Wh31C8C9fXoP"
      },
      "execution_count": 6,
      "outputs": []
    },
    {
      "cell_type": "code",
      "source": [
        "!ls -l $RIGHT_IMAGE"
      ],
      "metadata": {
        "colab": {
          "base_uri": "https://localhost:8080/"
        },
        "id": "cjilLrOfjBbd",
        "outputId": "6d9b0c7f-0d8c-4f62-d02f-4684707b14f4"
      },
      "execution_count": 7,
      "outputs": [
        {
          "output_type": "stream",
          "name": "stdout",
          "text": [
            "-rw------- 1 root root 11509067083 Mar 21  2016 /content/drive/MyDrive/DataSet/CityScapes/rightImg8bit_trainvaltest.zip\n"
          ]
        }
      ]
    },
    {
      "cell_type": "code",
      "source": [
        "!unzip -qq $LEFT_IMAGE -d /content\n",
        "!unzip -qq $RIGHT_IMAGE -d /content"
      ],
      "metadata": {
        "colab": {
          "base_uri": "https://localhost:8080/"
        },
        "collapsed": true,
        "id": "S_ZLMTa7fLfv",
        "outputId": "a7a9437e-e0cd-43ed-dafd-1bf10eb0c803"
      },
      "execution_count": 8,
      "outputs": [
        {
          "output_type": "stream",
          "name": "stdout",
          "text": [
            "replace /content/README? [y]es, [n]o, [A]ll, [N]one, [r]ename: n\n",
            "replace /content/license.txt? [y]es, [n]o, [A]ll, [N]one, [r]ename: n\n"
          ]
        }
      ]
    },
    {
      "cell_type": "code",
      "source": [
        "!ls /content/leftImg8bit/train/ /content/rightImg8bit/"
      ],
      "metadata": {
        "colab": {
          "base_uri": "https://localhost:8080/"
        },
        "id": "ymvrwNaogX2O",
        "outputId": "b136835e-2615-4825-f136-2c6a031a69bb"
      },
      "execution_count": 9,
      "outputs": [
        {
          "output_type": "stream",
          "name": "stdout",
          "text": [
            "/content/leftImg8bit/train/:\n",
            "aachen\tcologne     erfurt   jena\t      strasbourg  ulm\n",
            "bochum\tdarmstadt   hamburg  krefeld\t      stuttgart   weimar\n",
            "bremen\tdusseldorf  hanover  monchengladbach  tubingen\t  zurich\n",
            "\n",
            "/content/rightImg8bit/:\n",
            "test  train  val\n"
          ]
        }
      ]
    },
    {
      "cell_type": "code",
      "source": [
        "!find /content/leftImg8bit/train/ -name \"*.png\" | wc -l\n",
        "!find /content/leftImg8bit/test/ -name \"*.png\" | wc -l\n",
        "!find /content/leftImg8bit/val/ -name \"*.png\" | wc -l"
      ],
      "metadata": {
        "colab": {
          "base_uri": "https://localhost:8080/"
        },
        "id": "shtGx56fiamV",
        "outputId": "7c90b07f-39f8-454c-cbfa-40a49a3e4545"
      },
      "execution_count": null,
      "outputs": [
        {
          "output_type": "stream",
          "name": "stdout",
          "text": [
            "2975\n",
            "1525\n",
            "500\n"
          ]
        }
      ]
    },
    {
      "cell_type": "code",
      "source": [
        "!ls /content/rightImg8bit/ /content/rightImg8bit/train\n",
        "!find /content/rightImg8bit/train/ -name \"*.png\" | wc -l\n",
        "!find /content/rightImg8bit/test/ -name \"*.png\" | wc -l\n",
        "!find /content/rightImg8bit/val/ -name \"*.png\" | wc -l"
      ],
      "metadata": {
        "colab": {
          "base_uri": "https://localhost:8080/"
        },
        "id": "_25mD7q6iht8",
        "outputId": "29f39d5d-c175-47fb-e153-29d957f4a77a"
      },
      "execution_count": null,
      "outputs": [
        {
          "output_type": "stream",
          "name": "stdout",
          "text": [
            "/content/rightImg8bit/:\n",
            "test  train  val\n",
            "\n",
            "/content/rightImg8bit/train:\n",
            "aachen\tcologne     erfurt   jena\t      strasbourg  ulm\n",
            "bochum\tdarmstadt   hamburg  krefeld\t      stuttgart   weimar\n",
            "bremen\tdusseldorf  hanover  monchengladbach  tubingen\t  zurich\n",
            "2975\n",
            "1525\n",
            "500\n"
          ]
        }
      ]
    },
    {
      "cell_type": "code",
      "source": [
        "!ls /content/rightImg8bit/train/ /content/rightImg8bit/test/ /content/rightImg8bit/val/"
      ],
      "metadata": {
        "colab": {
          "base_uri": "https://localhost:8080/"
        },
        "id": "M_5uLn9okxFs",
        "outputId": "f8d9140d-8399-4e84-e9a7-893a79d56e31"
      },
      "execution_count": null,
      "outputs": [
        {
          "output_type": "stream",
          "name": "stdout",
          "text": [
            "/content/rightImg8bit/test/:\n",
            "berlin\tbielefeld  bonn  leverkusen  mainz  munich\n",
            "\n",
            "/content/rightImg8bit/train/:\n",
            "aachen\tcologne     erfurt   jena\t      strasbourg  ulm\n",
            "bochum\tdarmstadt   hamburg  krefeld\t      stuttgart   weimar\n",
            "bremen\tdusseldorf  hanover  monchengladbach  tubingen\t  zurich\n",
            "\n",
            "/content/rightImg8bit/val/:\n",
            "frankfurt  lindau  munster\n"
          ]
        }
      ]
    },
    {
      "cell_type": "code",
      "source": [
        "CS_RIGHT_ROOT = Path(\"/content/rightImg8bit\")\n",
        "CS_LEFT_ROOT = Path(\"/content/leftImg8bit\")\n",
        "sdirs = [\"train\", \"val\" ,\"test\"]"
      ],
      "metadata": {
        "id": "Dl7Zw4p3lKyC"
      },
      "execution_count": 5,
      "outputs": []
    },
    {
      "cell_type": "markdown",
      "source": [
        "# Helper Functions"
      ],
      "metadata": {
        "id": "xbiguv1SJTOk"
      }
    },
    {
      "cell_type": "markdown",
      "source": [
        "**Get list of directories and image count**"
      ],
      "metadata": {
        "id": "H44QhaZVJH11"
      }
    },
    {
      "cell_type": "code",
      "source": [
        "def get_Image_data(parent_dir=\"abc\", s_dir=\"abcd\"):\n",
        "  dir_list, file_count = [], []\n",
        "  subdir = parent_dir / s_dir\n",
        "\n",
        "  for dir in os.listdir(subdir):\n",
        "    subdir = parent_dir / s_dir / dir\n",
        "    fcount = len([file1 for file1 in os.listdir(subdir)])\n",
        "    #print(f\" {dir}: {fcount} \")\n",
        "    dir_list.append(dir)\n",
        "    file_count.append(fcount)\n",
        "\n",
        "  return dir_list, file_count"
      ],
      "metadata": {
        "id": "5PUW1YNfnhTI"
      },
      "execution_count": null,
      "outputs": []
    },
    {
      "cell_type": "markdown",
      "source": [
        "**Plot the graph**"
      ],
      "metadata": {
        "id": "FKIYhT-_JcJy"
      }
    },
    {
      "cell_type": "code",
      "source": [
        "def plot_graph(label = \"abc\", d_train=\"abcd\", d_val=\"abcd\", d_test=\"abc\"):\n",
        "    \n",
        "    plt.figure(figsize=(30,10))\n",
        "    width = 0.5\n",
        "    \n",
        "    plt.bar(d_train[\"Dname\"], d_train[\"fcount\"], width,label=\"Training\")\n",
        "    plt.bar(d_val[\"Dname\"], d_val[\"fcount\"], width,label=\"Validation\")\n",
        "    plt.bar(d_test[\"Dname\"], d_test[\"fcount\"], width,label=\"Testing\")\n",
        "    \n",
        "    plt.title(label + \" Drive folder Images\", fontsize=20)\n",
        "    plt.xlabel('Drive Names')\n",
        "    plt.ylabel('Image count')\n",
        "    \n",
        "    plt.xticks(rotation=30, ha=\"right\")\n",
        "    plt.grid(visible=True, which='major', axis='y')\n",
        "    plt.legend()\n",
        "    plt.show()"
      ],
      "metadata": {
        "id": "SMfFNk1-rB6c"
      },
      "execution_count": null,
      "outputs": []
    },
    {
      "cell_type": "markdown",
      "source": [
        "**Cityscapes RIGHT Directory EDA**"
      ],
      "metadata": {
        "id": "KcEgtoq9KYNH"
      }
    },
    {
      "cell_type": "code",
      "source": [
        "ROOT_DIR = CS_RIGHT_ROOT  #Fetch the list of images in the subdirectory\n",
        "dirs_trn, fcount_trn = get_Image_data(ROOT_DIR, sdirs[0])\n",
        "dirs_val, fcount_val = get_Image_data(ROOT_DIR, sdirs[1])\n",
        "dirs_test, fcount_test = get_Image_data(ROOT_DIR, sdirs[2])"
      ],
      "metadata": {
        "id": "jPA6zT2yKXpg"
      },
      "execution_count": null,
      "outputs": []
    },
    {
      "cell_type": "code",
      "source": [
        "dfR_train, dfR_val, dfR_test = pd.DataFrame(), pd.DataFrame(), pd.DataFrame()\n",
        "\n",
        "dfR_train = pd.DataFrame(list(zip(dirs_trn,fcount_trn)), columns=[\"Dname\", \"fcount\"])\n",
        "dfR_val = pd.DataFrame(list(zip(dirs_val,fcount_val)), columns=[\"Dname\", \"fcount\"])\n",
        "dfR_test = pd.DataFrame(list(zip(dirs_test,fcount_test)), columns=[\"Dname\", \"fcount\"])\n",
        "\n",
        "dfR_train.sort_values(\"fcount\",inplace=True)\n",
        "dfR_val.sort_values(\"fcount\",inplace=True)\n",
        "dfR_test.sort_values(\"fcount\",inplace=True)"
      ],
      "metadata": {
        "id": "dR66CT-IKidB"
      },
      "execution_count": null,
      "outputs": []
    },
    {
      "cell_type": "markdown",
      "source": [
        "**Cityscapes LEFG Directory EDA**"
      ],
      "metadata": {
        "id": "hh4ZtlwRKRAy"
      }
    },
    {
      "cell_type": "code",
      "source": [
        "ROOT_DIR = CS_LEFT_ROOT  #Fetch the list of images in the subdirectory\n",
        "dirs_trn, fcount_trn = get_Image_data(ROOT_DIR, sdirs[0])\n",
        "dirs_val, fcount_val = get_Image_data(ROOT_DIR, sdirs[1])\n",
        "dirs_test, fcount_test = get_Image_data(ROOT_DIR, sdirs[2])"
      ],
      "metadata": {
        "id": "kkXByMaqnwuY"
      },
      "execution_count": null,
      "outputs": []
    },
    {
      "cell_type": "code",
      "source": [
        "dfL_train, dfL_val, dfL_test = pd.DataFrame(), pd.DataFrame(), pd.DataFrame()\n",
        "\n",
        "dfL_train = pd.DataFrame(list(zip(dirs_trn,fcount_trn)), columns=[\"Dname\", \"fcount\"])\n",
        "dfL_val = pd.DataFrame(list(zip(dirs_val,fcount_val)), columns=[\"Dname\", \"fcount\"])\n",
        "dfL_test = pd.DataFrame(list(zip(dirs_test,fcount_test)), columns=[\"Dname\", \"fcount\"])\n",
        "\n",
        "dfL_train.sort_values(\"fcount\",inplace=True)\n",
        "dfL_val.sort_values(\"fcount\",inplace=True)\n",
        "dfL_test.sort_values(\"fcount\",inplace=True)"
      ],
      "metadata": {
        "id": "9QyLUu31sQbv"
      },
      "execution_count": null,
      "outputs": []
    },
    {
      "cell_type": "code",
      "source": [
        "!ls *.csv"
      ],
      "metadata": {
        "colab": {
          "base_uri": "https://localhost:8080/"
        },
        "id": "rpxSl4Ne_Qct",
        "outputId": "c7190f22-c6d6-4b1d-9831-983d103ff616"
      },
      "execution_count": null,
      "outputs": [
        {
          "output_type": "stream",
          "name": "stdout",
          "text": [
            "cs_right_test.csv  cs_right_train.csv  cs_right_val.csv\n"
          ]
        }
      ]
    },
    {
      "cell_type": "markdown",
      "source": [
        "**Consistency Check**"
      ],
      "metadata": {
        "id": "rRIsFC3iOSOJ"
      }
    },
    {
      "cell_type": "code",
      "source": [
        "assert dfL_train[\"fcount\"].any() == dfR_train[\"fcount\"].any(), \"Training data count MIS-match\"\n",
        "assert dfL_val[\"fcount\"].any() == dfR_val[\"fcount\"].any(), \"Training data count MIS-match\"\n",
        "assert dfL_test[\"fcount\"].any() == dfR_test[\"fcount\"].any(), \"Training data count MIS-match\""
      ],
      "metadata": {
        "id": "32ua0TT-MSwu"
      },
      "execution_count": null,
      "outputs": []
    },
    {
      "cell_type": "code",
      "source": [
        "assert dfL_train[\"Dname\"].any() == dfR_train[\"Dname\"].any(), \"Training data directory MIS-match\"\n",
        "assert dfL_val[\"Dname\"].any() == dfR_val[\"Dname\"].any(), \"Training data directory MIS-match\"\n",
        "assert dfL_test[\"Dname\"].any() == dfR_test[\"Dname\"].any(), \"Training data directory MIS-match\""
      ],
      "metadata": {
        "id": "ZO7k7qTUNQWt"
      },
      "execution_count": null,
      "outputs": []
    },
    {
      "cell_type": "markdown",
      "source": [
        "**Save to CSV files**"
      ],
      "metadata": {
        "id": "AqTcmwllQx05"
      }
    },
    {
      "cell_type": "code",
      "source": [
        "dfL_train.to_csv(\"cs_left_train.csv\", index=False)\n",
        "dfL_val.to_csv(\"cs_left_val.csv\", index=False)\n",
        "dfL_test.to_csv(\"cs_left_test.csv\", index=False)"
      ],
      "metadata": {
        "id": "fq_ENLSFKiDO"
      },
      "execution_count": null,
      "outputs": []
    },
    {
      "cell_type": "code",
      "source": [
        "dfR_train.to_csv(\"cs_right_train.csv\", index=False)\n",
        "dfR_val.to_csv(\"cs_right_val.csv\", index=False)\n",
        "dfR_test.to_csv(\"cs_right_test.csv\", index=False)"
      ],
      "metadata": {
        "id": "9mBBWJMsE1bk"
      },
      "execution_count": null,
      "outputs": []
    },
    {
      "cell_type": "markdown",
      "source": [
        "**PLOT THE GRAPHS FOR LEFT AND RIGHT DIRECTORIES**"
      ],
      "metadata": {
        "id": "sVacxMqqOe7c"
      }
    },
    {
      "cell_type": "code",
      "source": [
        "plot_graph(label=\"Left\", d_train=dfL_train, d_val=dfL_val, d_test=dfL_test)\n",
        "plot_graph(label=\"Right\", d_train=dfR_train, d_val=dfR_val, d_test=dfR_test)"
      ],
      "metadata": {
        "colab": {
          "base_uri": "https://localhost:8080/",
          "height": 908
        },
        "id": "hkTVo97ysKBs",
        "outputId": "7dd3abaa-f181-49b2-cae4-c7b8909ec289"
      },
      "execution_count": null,
      "outputs": [
        {
          "output_type": "display_data",
          "data": {
            "text/plain": [
              "<Figure size 2160x720 with 1 Axes>"
            ],
            "image/png": "[encoded data removed]"
          },
          "metadata": {
            "needs_background": "light"
          }
        },
        {
          "output_type": "display_data",
          "data": {
            "text/plain": [
              "<Figure size 2160x720 with 1 Axes>"
            ],
            "image/png": "[encoded data removed]"
          },
          "metadata": {
            "needs_background": "light"
          }
        }
      ]
    },
    {
      "cell_type": "code",
      "source": [],
      "metadata": {
        "id": "iouFC5PORTEE"
      },
      "execution_count": null,
      "outputs": []
    },
    {
      "cell_type": "markdown",
      "source": [
        "**Verify the contents of the Dataframe**"
      ],
      "metadata": {
        "id": "obcmDZICR4TJ"
      }
    },
    {
      "cell_type": "code",
      "source": [
        "list(zip (dfL_train[\"fcount\"], dfR_train[\"fcount\"]))"
      ],
      "metadata": {
        "colab": {
          "base_uri": "https://localhost:8080/"
        },
        "collapsed": true,
        "id": "OG8S9k5lRTAr",
        "outputId": "4ea2b88b-7423-48a1-cacd-5114a8914f97"
      },
      "execution_count": null,
      "outputs": [
        {
          "output_type": "execute_result",
          "data": {
            "text/plain": [
              "[(85, 85),\n",
              " (94, 94),\n",
              " (95, 95),\n",
              " (96, 96),\n",
              " (99, 99),\n",
              " (109, 109),\n",
              " (119, 119),\n",
              " (122, 122),\n",
              " (142, 142),\n",
              " (144, 144),\n",
              " (154, 154),\n",
              " (174, 174),\n",
              " (196, 196),\n",
              " (196, 196),\n",
              " (221, 221),\n",
              " (248, 248),\n",
              " (316, 316),\n",
              " (365, 365)]"
            ]
          },
          "metadata": {},
          "execution_count": 169
        }
      ]
    },
    {
      "cell_type": "code",
      "source": [
        "list(zip (dfL_train[\"Dname\"], dfR_train[\"Dname\"]))"
      ],
      "metadata": {
        "colab": {
          "base_uri": "https://localhost:8080/"
        },
        "collapsed": true,
        "id": "onpTXCttRS9p",
        "outputId": "c673053c-d06e-4816-a267-531d4efec7b7"
      },
      "execution_count": null,
      "outputs": [
        {
          "output_type": "execute_result",
          "data": {
            "text/plain": [
              "[('darmstadt', 'darmstadt'),\n",
              " ('monchengladbach', 'monchengladbach'),\n",
              " ('ulm', 'ulm'),\n",
              " ('bochum', 'bochum'),\n",
              " ('krefeld', 'krefeld'),\n",
              " ('erfurt', 'erfurt'),\n",
              " ('jena', 'jena'),\n",
              " ('zurich', 'zurich'),\n",
              " ('weimar', 'weimar'),\n",
              " ('tubingen', 'tubingen'),\n",
              " ('cologne', 'cologne'),\n",
              " ('aachen', 'aachen'),\n",
              " ('stuttgart', 'stuttgart'),\n",
              " ('hanover', 'hanover'),\n",
              " ('dusseldorf', 'dusseldorf'),\n",
              " ('hamburg', 'hamburg'),\n",
              " ('bremen', 'bremen'),\n",
              " ('strasbourg', 'strasbourg')]"
            ]
          },
          "metadata": {},
          "execution_count": 170
        }
      ]
    },
    {
      "cell_type": "code",
      "source": [
        "TRAIN_DIR_1 = Path(\"/content/leftImg8bit/train/aachen\")\n",
        "FILE_NAME = \"aachen_000000_000019_leftImg8bit.png\""
      ],
      "metadata": {
        "id": "epcolB5_Xn7P"
      },
      "execution_count": null,
      "outputs": []
    },
    {
      "cell_type": "code",
      "source": [
        "sample_file = TRAIN_DIR_1 / FILE_NAME"
      ],
      "metadata": {
        "id": "VtjEw2SfX34k"
      },
      "execution_count": null,
      "outputs": []
    },
    {
      "cell_type": "code",
      "source": [
        "img = im.open(sample_file).convert(\"RGB\")"
      ],
      "metadata": {
        "id": "HyV9v697X63w"
      },
      "execution_count": null,
      "outputs": []
    },
    {
      "cell_type": "code",
      "source": [
        "img.size"
      ],
      "metadata": {
        "colab": {
          "base_uri": "https://localhost:8080/"
        },
        "id": "SnggutovYQPu",
        "outputId": "887f0b1f-ec78-468c-94e3-2b68af0b2063"
      },
      "execution_count": null,
      "outputs": [
        {
          "output_type": "execute_result",
          "data": {
            "text/plain": [
              "(2048, 1024)"
            ]
          },
          "metadata": {},
          "execution_count": 181
        }
      ]
    },
    {
      "cell_type": "code",
      "source": [
        "img.close()"
      ],
      "metadata": {
        "id": "Hfg-3q42YXRO"
      },
      "execution_count": null,
      "outputs": []
    },
    {
      "cell_type": "code",
      "source": [
        "for file1 in glob.glob(CS_LEFT_DIR):\n",
        "  print(file1)\n",
        "  break"
      ],
      "metadata": {
        "id": "PXPfTnF2Y3N2",
        "colab": {
          "base_uri": "https://localhost:8080/"
        },
        "outputId": "2f7b53bc-6c15-479a-dc48-969be15fc7b3"
      },
      "execution_count": 10,
      "outputs": [
        {
          "output_type": "stream",
          "name": "stdout",
          "text": [
            "/content/leftImg8bit/\n"
          ]
        }
      ]
    },
    {
      "cell_type": "markdown",
      "source": [
        "**Check if the images have the same size**"
      ],
      "metadata": {
        "id": "FNZmZNypNQMl"
      }
    },
    {
      "cell_type": "code",
      "source": [
        "def Check_Image_data(parent_dir=\"abc\", s_dir=\"abcd\"):\n",
        "  dir_list, file_sizes = [], []\n",
        "  fsize = ()\n",
        "  FIRST = False\n",
        "  subdir = os.path.join(parent_dir, s_dir)\n",
        "  \n",
        "  for dir in os.listdir(subdir):\n",
        "    subdir = os.path.join(parent_dir, s_dir, dir)\n",
        "    print(subdir, end=\" \")    \n",
        "    find_files = subdir + \"/\" + \"*.png\"\n",
        "\n",
        "    for i, file1 in enumerate(glob.glob(find_files)):\n",
        "      im_size = im.open(file1).convert(\"RGB\").size\n",
        "      if FIRST:\n",
        "        if fsize != im_size:\n",
        "          dir_list.append(file1)\n",
        "          file_sizes.append(im_size)\n",
        "          print(f\"Size mismatch {fsize}  {file1} \")        \n",
        "          #assert fsize == im_size, f\"Sizes {fsize}  {im_size} \"        \n",
        "      else:\n",
        "        fsize = im_size\n",
        "        FIRST = True\n",
        "        print(fsize, end=\" \")\n",
        "        continue\n",
        "    print(i+1)\n",
        "  if len(dir_list) != 0:\n",
        "    print(f\"dir_list:{dir_list} , file_sizes: {file_sizes} \")\n",
        "  else:\n",
        "    print(f\"All the files in {parent_dir} have {fsize}.\")"
      ],
      "metadata": {
        "id": "wjvwN59DZtNd"
      },
      "execution_count": 5,
      "outputs": []
    },
    {
      "cell_type": "code",
      "source": [
        "len(sdirs)"
      ],
      "metadata": {
        "colab": {
          "base_uri": "https://localhost:8080/"
        },
        "id": "gPUPf8IixBIZ",
        "outputId": "79d05d95-98d4-4c82-d5e5-786fea62ea29"
      },
      "execution_count": 12,
      "outputs": [
        {
          "output_type": "execute_result",
          "data": {
            "text/plain": [
              "3"
            ]
          },
          "metadata": {},
          "execution_count": 12
        }
      ]
    },
    {
      "cell_type": "code",
      "source": [
        "for i in range(len(sdirs)):\n",
        "  Check_Image_data(CS_LEFT_ROOT, sdirs[i])\n",
        "\n",
        "for i in range(len(sdirs)):\n",
        "  Check_Image_data(CS_RIGHT_ROOT, sdirs[i])"
      ],
      "metadata": {
        "colab": {
          "base_uri": "https://localhost:8080/"
        },
        "id": "nFHSAm8gkhHg",
        "outputId": "86a8c444-1f6d-4561-e210-ad444b9ff363"
      },
      "execution_count": 16,
      "outputs": [
        {
          "output_type": "stream",
          "name": "stdout",
          "text": [
            "/content/leftImg8bit/train/darmstadt (2048, 1024) 85\n",
            "/content/leftImg8bit/train/hamburg 248\n",
            "/content/leftImg8bit/train/tubingen 144\n",
            "/content/leftImg8bit/train/krefeld 99\n",
            "/content/leftImg8bit/train/ulm 95\n",
            "/content/leftImg8bit/train/jena 119\n",
            "/content/leftImg8bit/train/strasbourg 365\n",
            "/content/leftImg8bit/train/zurich 122\n",
            "/content/leftImg8bit/train/monchengladbach 94\n",
            "/content/leftImg8bit/train/dusseldorf 221\n",
            "/content/leftImg8bit/train/cologne 154\n",
            "/content/leftImg8bit/train/bremen 316\n",
            "/content/leftImg8bit/train/erfurt 109\n",
            "/content/leftImg8bit/train/hanover 196\n",
            "/content/leftImg8bit/train/bochum 96\n",
            "/content/leftImg8bit/train/aachen 174\n",
            "/content/leftImg8bit/train/weimar 142\n",
            "/content/leftImg8bit/train/stuttgart 196\n",
            "All the files in /content/leftImg8bit/ hae (2048, 1024).\n",
            "/content/leftImg8bit/val/frankfurt (2048, 1024) 267\n",
            "/content/leftImg8bit/val/lindau 59\n",
            "/content/leftImg8bit/val/munster 174\n",
            "All the files in /content/leftImg8bit/ hae (2048, 1024).\n",
            "/content/leftImg8bit/test/munich (2048, 1024) 398\n",
            "/content/leftImg8bit/test/mainz 298\n",
            "/content/leftImg8bit/test/berlin 544\n",
            "/content/leftImg8bit/test/leverkusen 58\n",
            "/content/leftImg8bit/test/bielefeld 181\n",
            "/content/leftImg8bit/test/bonn 46\n",
            "All the files in /content/leftImg8bit/ hae (2048, 1024).\n",
            "/content/rightImg8bit/train/darmstadt (2048, 1024) 85\n",
            "/content/rightImg8bit/train/hamburg 248\n",
            "/content/rightImg8bit/train/tubingen 144\n",
            "/content/rightImg8bit/train/krefeld 99\n",
            "/content/rightImg8bit/train/ulm 95\n",
            "/content/rightImg8bit/train/jena 119\n",
            "/content/rightImg8bit/train/strasbourg 365\n",
            "/content/rightImg8bit/train/zurich 122\n",
            "/content/rightImg8bit/train/monchengladbach 94\n",
            "/content/rightImg8bit/train/dusseldorf 221\n",
            "/content/rightImg8bit/train/cologne 154\n",
            "/content/rightImg8bit/train/bremen 316\n",
            "/content/rightImg8bit/train/erfurt 109\n",
            "/content/rightImg8bit/train/hanover 196\n",
            "/content/rightImg8bit/train/bochum 96\n",
            "/content/rightImg8bit/train/aachen 174\n",
            "/content/rightImg8bit/train/weimar 142\n",
            "/content/rightImg8bit/train/stuttgart 196\n",
            "All the files in /content/rightImg8bit hae (2048, 1024).\n",
            "/content/rightImg8bit/val/frankfurt (2048, 1024) 267\n",
            "/content/rightImg8bit/val/lindau 59\n",
            "/content/rightImg8bit/val/munster 174\n",
            "All the files in /content/rightImg8bit hae (2048, 1024).\n",
            "/content/rightImg8bit/test/munich (2048, 1024) 398\n",
            "/content/rightImg8bit/test/mainz 298\n",
            "/content/rightImg8bit/test/berlin 544\n",
            "/content/rightImg8bit/test/leverkusen 58\n",
            "/content/rightImg8bit/test/bielefeld 181\n",
            "/content/rightImg8bit/test/bonn 46\n",
            "All the files in /content/rightImg8bit hae (2048, 1024).\n"
          ]
        }
      ]
    },
    {
      "cell_type": "markdown",
      "source": [
        "# **Animation**"
      ],
      "metadata": {
        "id": "NYhSB3NVZJy6"
      }
    },
    {
      "cell_type": "code",
      "source": [
        "import matplotlib.animation as animation\n",
        "from IPython.display import clear_output"
      ],
      "metadata": {
        "id": "AN8EAMKtZIyt"
      },
      "execution_count": 16,
      "outputs": []
    },
    {
      "cell_type": "code",
      "source": [
        "def create_video(left_d=\"abcd\", right_d=\"abc\", image_f=\"abcd\"):\n",
        "    fig, (axL, axR) = plt.subplots(nrows=1, ncols=2, figsize=(20,10))\n",
        "    fig.subplots_adjust(left=0, bottom=0, right=1, top=1, wspace=0.05, hspace=0)\n",
        "    axL.axis('off')\n",
        "    axR.axis('off')\n",
        "    axL.set_title('Left Image')\n",
        "    axR.set_title('Right Image')\n",
        "\n",
        "    fis = []\n",
        "    for i in range(len(left_d)):\n",
        "        im1 = axL.imshow(plt.imread(left_d[i]), animated=True)\n",
        "        im2 = axR.imshow(plt.imread(right_d[i]), animated=True)\n",
        "        fis.append([im1,im2])\n",
        "        \n",
        "    ani = animation.ArtistAnimation(fig, fis, interval=200, blit=False)\n",
        "    image_folder =  image_f + \".mp4\"\n",
        "    vidio_path = ROOT_VIDEO_DIR / image_folder\n",
        "    print(f\"vidio_path: {vidio_path}\")\n",
        "    ani.save(vidio_path)\n",
        "    fig.clear()\n",
        "    plt.clf()\n",
        "    plt.close(fig=fig)\n",
        "    clear_output()    \n",
        "    del ani"
      ],
      "metadata": {
        "id": "RwqkRA6HacNP"
      },
      "execution_count": 23,
      "outputs": []
    },
    {
      "cell_type": "code",
      "source": [
        "def number(fname):\n",
        "  return int(fname.split('_')[1])\n",
        "#/content/leftImg8bit/train/aachen/aachen_000093_000019_leftImg8bit.png\n",
        "#/content/leftImg8bit/train/erfurt/erfurt_000001_000019_leftImg8bit.png\n",
        "#/content/leftImg8bit/train/darmstadt/darmstadt_000003_000019_leftImg8bit.png"
      ],
      "metadata": {
        "id": "8QMW9XXwTqRc"
      },
      "execution_count": 18,
      "outputs": []
    },
    {
      "cell_type": "code",
      "source": [
        "ROOT_VIDEO_DIR=Path(\"/content/drive/MyDrive/EDA_Animation/CS/Train\")"
      ],
      "metadata": {
        "id": "T2m5M1UZaucD"
      },
      "execution_count": 19,
      "outputs": []
    },
    {
      "cell_type": "code",
      "source": [
        "data_dir = 0\n",
        "dir_name = \"darmstadt\""
      ],
      "metadata": {
        "id": "uVLMh8KUXJfu"
      },
      "execution_count": 20,
      "outputs": []
    },
    {
      "cell_type": "code",
      "source": [
        "left_dir  = os.path.join(CS_LEFT_ROOT,sdirs[data_dir], dir_name) + \"/*\"\n",
        "right_dir  = os.path.join(CS_RIGHT_ROOT,sdirs[data_dir], dir_name) + \"/*\"\n",
        "print(left_dir, right_dir)\n",
        "left_list = [filename for filename in glob.glob(left_dir)]\n",
        "right_list = [filename for filename in glob.glob(right_dir)]\n",
        "left_list  = list(sorted(left_list, key=number))\n",
        "right_list = list(sorted(right_list, key=number))"
      ],
      "metadata": {
        "colab": {
          "base_uri": "https://localhost:8080/"
        },
        "id": "TzBbnQFgTqOn",
        "outputId": "2a842c19-dc44-41a1-ad46-ce7f4a895b62"
      },
      "execution_count": 21,
      "outputs": [
        {
          "output_type": "stream",
          "name": "stdout",
          "text": [
            "/content/leftImg8bit/train/darmstadt/* /content/rightImg8bit/train/darmstadt/*\n"
          ]
        }
      ]
    },
    {
      "cell_type": "code",
      "source": [
        "create_video(left_d=left_list, right_d=right_list, image_f=dir_name)    "
      ],
      "metadata": {
        "id": "paA1XJRETqLt"
      },
      "execution_count": 24,
      "outputs": []
    },
    {
      "cell_type": "code",
      "source": [],
      "metadata": {
        "id": "yN4jrAMzyXMf"
      },
      "execution_count": 22,
      "outputs": []
    }
  ]
}