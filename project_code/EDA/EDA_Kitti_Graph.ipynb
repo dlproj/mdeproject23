{
  "nbformat": 4,
  "nbformat_minor": 0,
  "metadata": {
    "colab": {
      "provenance": []
    },
    "kernelspec": {
      "name": "python3",
      "display_name": "Python 3"
    },
    "language_info": {
      "name": "python"
    }
  },
  "cells": [
    {
      "cell_type": "code",
      "execution_count": 1,
      "metadata": {
        "id": "jvnq9dJ3f4qe"
      },
      "outputs": [],
      "source": [
        "import os\n",
        "from pathlib import Path\n",
        "\n",
        "import matplotlib.pyplot as plt\n",
        "import numpy as np\n",
        "import pandas as pd"
      ]
    },
    {
      "cell_type": "code",
      "source": [
        "#!ls /content/drive/MyDrive/DataSet/Kvalidation.zip\n",
        "#!unzip -qq  /content/drive/MyDrive/DataSet/Kvalidation.zip "
      ],
      "metadata": {
        "colab": {
          "base_uri": "https://localhost:8080/"
        },
        "id": "Yu9fyEjCL1gL",
        "outputId": "9c006b2b-01c0-4b56-9180-50b148b2a269"
      },
      "execution_count": null,
      "outputs": [
        {
          "output_type": "stream",
          "name": "stdout",
          "text": [
            "ls: cannot access '/content/drive/MyDrive/DataSet/Kvalidation.zip': No such file or directory\n"
          ]
        }
      ]
    },
    {
      "cell_type": "code",
      "source": [
        "VALN_ROOT=Path(\"/content/drive/MyDrive/DataSet/KImages/data/kitti/val\")"
      ],
      "metadata": {
        "id": "tMahz7ltLfQa"
      },
      "execution_count": null,
      "outputs": []
    },
    {
      "cell_type": "markdown",
      "source": [
        "Functions \n",
        "1. def get_Images_data(root_path):\n",
        "2. def draw_single_bar_graph(drive_names, files_count, label):\n",
        "    "
      ],
      "metadata": {
        "id": "YkjbpR-qeM69"
      }
    },
    {
      "cell_type": "code",
      "source": [
        "def get_Images_data(root_path):\n",
        "    dirs=[]\n",
        "    files_count = []\n",
        "\n",
        "    for dir in os.listdir(root_path):\n",
        "      subdir=root_path/dir\n",
        "      left, right = subdir/\"image_02/data\", subdir/\"image_03/data\"\n",
        "      lfile_count=len([ file1 for file1 in os.listdir(left)  if file1.split('.')[-1] == 'png'])\n",
        "      rfile_count=len([ file1 for file1 in os.listdir(right)  if file1.split('.')[-1] == 'png'])\n",
        "\n",
        "      assert lfile_count == rfile_count, f\" {dir} File count mismatch left {lfile_count} {rfile_count}\"\n",
        "      dirs.append(dir)\n",
        "      files_count.append(lfile_count) \n",
        "      \n",
        "    return dirs,files_count"
      ],
      "metadata": {
        "id": "tbWlELZFLyeg"
      },
      "execution_count": null,
      "outputs": []
    },
    {
      "cell_type": "code",
      "source": [
        "dirs, files_count = get_Images_data(VALN_ROOT)"
      ],
      "metadata": {
        "id": "iEaBFDOtibt9"
      },
      "execution_count": null,
      "outputs": []
    },
    {
      "cell_type": "code",
      "source": [
        "dirs, files_count, sum(files_count)"
      ],
      "metadata": {
        "colab": {
          "base_uri": "https://localhost:8080/"
        },
        "collapsed": true,
        "id": "t4ZfVlEDJwJc",
        "outputId": "71edc83a-e737-46ff-8ccb-24d882d8b3c9"
      },
      "execution_count": null,
      "outputs": [
        {
          "output_type": "execute_result",
          "data": {
            "text/plain": [
              "(['2011_09_26_drive_0014_sync',\n",
              "  '2011_09_26_drive_0020_sync',\n",
              "  '2011_09_26_drive_0079_sync',\n",
              "  '2011_09_29_drive_0071_sync',\n",
              "  '2011_09_30_drive_0033_sync',\n",
              "  '2011_10_03_drive_0042_sync',\n",
              "  '2011_09_26_drive_0002_sync'],\n",
              " [314, 86, 100, 1059, 1594, 1170, 77],\n",
              " 4400)"
            ]
          },
          "metadata": {},
          "execution_count": 11
        }
      ]
    },
    {
      "cell_type": "code",
      "source": [
        "df_val = pd.DataFrame(list(zip(dirs,files_count)), columns=[\"Dname\", \"fcount\"])\n",
        "df_val.sort_values(\"fcount\",inplace=True)\n",
        "df_val.to_csv(\"validation_dirs.csv\", index=False)"
      ],
      "metadata": {
        "id": "aEs-sqNXGoQF"
      },
      "execution_count": null,
      "outputs": []
    },
    {
      "cell_type": "code",
      "source": [
        "TRAIN_ROOT = Path(\"/content/drive/MyDrive/DataSet/KImages/data/kitti/train\")"
      ],
      "metadata": {
        "id": "nz20laevqaiG"
      },
      "execution_count": null,
      "outputs": []
    },
    {
      "cell_type": "code",
      "source": [
        "train_sample_dirs, train_sample_files_count = get_Images_data(TRAIN_ROOT)"
      ],
      "metadata": {
        "id": "yIRHIUfnqgq2"
      },
      "execution_count": null,
      "outputs": []
    },
    {
      "cell_type": "code",
      "source": [
        "train_sample_dirs, train_sample_files_count"
      ],
      "metadata": {
        "collapsed": true,
        "colab": {
          "base_uri": "https://localhost:8080/"
        },
        "id": "BtyZDPGK9yTy",
        "outputId": "c5d28609-be51-4bd3-bcd8-69e7444dc3ac"
      },
      "execution_count": null,
      "outputs": [
        {
          "output_type": "execute_result",
          "data": {
            "text/plain": [
              "(['2011_09_28_drive_0002_sync',\n",
              "  '2011_09_28_drive_0001_sync',\n",
              "  '2011_09_29_drive_0004_sync',\n",
              "  '2011_09_29_drive_0026_sync',\n",
              "  '2011_09_30_drive_0016_sync',\n",
              "  '2011_09_30_drive_0018_sync',\n",
              "  '2011_09_30_drive_0020_sync',\n",
              "  '2011_09_30_drive_0027_sync',\n",
              "  '2011_09_30_drive_0028_sync',\n",
              "  '2011_09_30_drive_0034_sync',\n",
              "  '2011_10_03_drive_0027_sync',\n",
              "  '2011_10_03_drive_0034_sync',\n",
              "  '2011_10_03_drive_0047_sync',\n",
              "  '2011_09_26_drive_0001_sync',\n",
              "  '2011_09_26_drive_0005_sync',\n",
              "  '2011_09_26_drive_0013_sync',\n",
              "  '2011_09_26_drive_0011_sync',\n",
              "  '2011_09_26_drive_0015_sync',\n",
              "  '2011_09_26_drive_0009_sync',\n",
              "  '2011_09_26_drive_0017_sync',\n",
              "  '2011_09_26_drive_0018_sync',\n",
              "  '2011_09_26_drive_0019_sync',\n",
              "  '2011_09_26_drive_0027_sync',\n",
              "  '2011_09_26_drive_0023_sync',\n",
              "  '2011_09_26_drive_0029_sync',\n",
              "  '2011_09_26_drive_0028_sync',\n",
              "  '2011_09_26_drive_0022_sync',\n",
              "  '2011_09_26_drive_0059_sync',\n",
              "  '2011_09_26_drive_0060_sync',\n",
              "  '2011_09_26_drive_0061_sync',\n",
              "  '2011_09_26_drive_0064_sync',\n",
              "  '2011_09_26_drive_0070_sync',\n",
              "  '2011_09_26_drive_0084_sync',\n",
              "  '2011_09_26_drive_0086_sync',\n",
              "  '2011_09_26_drive_0087_sync',\n",
              "  '2011_09_26_drive_0091_sync',\n",
              "  '2011_09_26_drive_0093_sync',\n",
              "  '2011_09_26_drive_0095_sync',\n",
              "  '2011_09_26_drive_0096_sync',\n",
              "  '2011_09_26_drive_0035_sync',\n",
              "  '2011_09_26_drive_0032_sync',\n",
              "  '2011_09_26_drive_0101_sync',\n",
              "  '2011_09_26_drive_0036_sync',\n",
              "  '2011_09_26_drive_0104_sync',\n",
              "  '2011_09_26_drive_0106_sync',\n",
              "  '2011_09_26_drive_0048_sync',\n",
              "  '2011_09_26_drive_0113_sync',\n",
              "  '2011_09_26_drive_0046_sync',\n",
              "  '2011_09_26_drive_0052_sync',\n",
              "  '2011_09_26_drive_0051_sync',\n",
              "  '2011_09_26_drive_0117_sync',\n",
              "  '2011_09_26_drive_0056_sync',\n",
              "  '2011_09_26_drive_0057_sync',\n",
              "  '2011_09_26_drive_0039_sync'],\n",
              " [376,\n",
              "  106,\n",
              "  339,\n",
              "  158,\n",
              "  279,\n",
              "  2762,\n",
              "  1104,\n",
              "  1106,\n",
              "  5177,\n",
              "  1224,\n",
              "  4544,\n",
              "  4663,\n",
              "  837,\n",
              "  108,\n",
              "  154,\n",
              "  144,\n",
              "  233,\n",
              "  297,\n",
              "  447,\n",
              "  114,\n",
              "  270,\n",
              "  481,\n",
              "  188,\n",
              "  474,\n",
              "  430,\n",
              "  430,\n",
              "  800,\n",
              "  373,\n",
              "  78,\n",
              "  703,\n",
              "  570,\n",
              "  420,\n",
              "  383,\n",
              "  706,\n",
              "  729,\n",
              "  340,\n",
              "  433,\n",
              "  268,\n",
              "  475,\n",
              "  131,\n",
              "  390,\n",
              "  936,\n",
              "  803,\n",
              "  312,\n",
              "  227,\n",
              "  22,\n",
              "  87,\n",
              "  125,\n",
              "  78,\n",
              "  438,\n",
              "  660,\n",
              "  294,\n",
              "  361,\n",
              "  395])"
            ]
          },
          "metadata": {},
          "execution_count": 14
        }
      ]
    },
    {
      "cell_type": "code",
      "source": [
        "print(f\"TRAINING DATA:: Directories:\", len(train_sample_dirs), \"Total files:\", sum(train_sample_files_count))"
      ],
      "metadata": {
        "colab": {
          "base_uri": "https://localhost:8080/"
        },
        "id": "N7MSfZbGw_oQ",
        "outputId": "1b3e7c01-8830-4179-bb0f-516fedeaf493"
      },
      "execution_count": null,
      "outputs": [
        {
          "output_type": "stream",
          "name": "stdout",
          "text": [
            "TRAINING DATA:: Directories: 54 Total files: 37982\n"
          ]
        }
      ]
    },
    {
      "cell_type": "code",
      "source": [
        "df_train = pd.DataFrame(list(zip(train_sample_dirs, train_sample_files_count)), columns=[\"Dname\", \"fcount\"])\n",
        "df_train.sort_values(\"fcount\", inplace=True)\n",
        "df_train.to_csv(\"training_dirs.csv\", index=False)"
      ],
      "metadata": {
        "id": "Bw-IlZKx--Wh"
      },
      "execution_count": null,
      "outputs": []
    },
    {
      "cell_type": "markdown",
      "source": [
        "**Getting the data from the CSV files:**"
      ],
      "metadata": {
        "id": "1KKZk6mrKifo"
      }
    },
    {
      "cell_type": "code",
      "source": [
        "df_train_csv = pd.DataFrame()\n",
        "df_train_csv = pd.read_csv(\"training_dirs.csv\")"
      ],
      "metadata": {
        "id": "2UER4QB-Hsyd"
      },
      "execution_count": 13,
      "outputs": []
    },
    {
      "cell_type": "code",
      "source": [
        "df_val_csv = pd.DataFrame()\n",
        "df_val_csv = pd.read_csv(\"validation_dirs.csv\")"
      ],
      "metadata": {
        "id": "1mCUci4aJZBl"
      },
      "execution_count": 36,
      "outputs": []
    },
    {
      "cell_type": "code",
      "source": [
        "def draw_single_bar_graph(drive_names, files_count, label):\n",
        "    width = 0.4\n",
        "    \n",
        "    if label == \"Training\":  #Since we want to display 54 drivenames\n",
        "      plt.figure(figsize=(30,15))\n",
        "      plt.grid(visible=True, which='major', axis='y', color='g', linewidth=3)\n",
        "      plt.title(\"Kitti Images from the \" + label + \" Data\", fontsize=20)\n",
        "      plt.ylabel('Image count', fontsize=25)\n",
        "    else:\n",
        "      plt.grid(visible=True, which='major', axis='y', color='g')\n",
        "      plt.title(\"Kitti Images from the \" + label + \" Data\", fontsize=10)\n",
        "      plt.ylabel('Image count')    \n",
        "    \n",
        "    #x = np.arange(len(drive_names))\n",
        "    #plt.bar(x,files_count, width, label=label)\n",
        "    plt.bar(drive_names,files_count, width, label=label)\n",
        "    plt.xticks(rotation=30, ha=\"right\")\n",
        "    \n",
        "    plt.xlabel('Drive Names')\n",
        "    plt.legend()\n",
        "    plt.show()"
      ],
      "metadata": {
        "id": "Gl8A4tWJu0m4"
      },
      "execution_count": 58,
      "outputs": []
    },
    {
      "cell_type": "code",
      "source": [
        "draw_single_bar_graph(drive_names=df_train_csv[\"Dname\"], files_count=df_train_csv[\"fcount\"], label=\"Training\")"
      ],
      "metadata": {
        "colab": {
          "base_uri": "https://localhost:8080/",
          "height": 650
        },
        "id": "R22Su44UDHd2",
        "outputId": "072f0c5e-322b-403e-a013-c28c892a0a9b"
      },
      "execution_count": 60,
      "outputs": [
        {
          "output_type": "display_data",
          "data": {
            "text/plain": [
              "<Figure size 2160x1080 with 1 Axes>"
            ],
            "image/png": "[encoded data removed]"
          },
          "metadata": {
            "needs_background": "light"
          }
        }
      ]
    },
    {
      "cell_type": "code",
      "source": [
        "draw_single_bar_graph(drive_names=df_val_csv[\"Dname\"], files_count=df_val_csv[\"fcount\"], label=\"Validation\")"
      ],
      "metadata": {
        "colab": {
          "base_uri": "https://localhost:8080/",
          "height": 367
        },
        "id": "5ZvhkC2PD0Wa",
        "outputId": "78b5306d-83e1-49da-abec-02b47ba55d56"
      },
      "execution_count": 61,
      "outputs": [
        {
          "output_type": "display_data",
          "data": {
            "text/plain": [
              "<Figure size 432x288 with 1 Axes>"
            ],
            "image/png": "[encoded data removed]"
          },
          "metadata": {
            "needs_background": "light"
          }
        }
      ]
    },
    {
      "cell_type": "code",
      "source": [],
      "metadata": {
        "id": "OBOQIB2vMEJZ"
      },
      "execution_count": 61,
      "outputs": []
    }
  ]
}