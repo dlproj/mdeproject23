{
  "cells": [
    {
      "cell_type": "code",
      "source": [
        "from google.colab import drive\n",
        "drive.mount('/content/drive')"
      ],
      "metadata": {
        "colab": {
          "base_uri": "https://localhost:8080/"
        },
        "id": "9vFWfkhEGC98",
        "outputId": "2b5324cd-94b4-42db-d6fc-d632f0a7461c"
      },
      "execution_count": null,
      "outputs": [
        {
          "output_type": "stream",
          "name": "stdout",
          "text": [
            "Mounted at /content/drive\n"
          ]
        }
      ]
    },
    {
      "cell_type": "code",
      "source": [
        "!ls /content/drive/MyDrive/MDE_Capstone/PreReq/"
      ],
      "metadata": {
        "colab": {
          "base_uri": "https://localhost:8080/"
        },
        "id": "Tx331szKQhSx",
        "outputId": "f6d0b5db-3d3e-42f0-a9a2-39d495e704f8"
      },
      "execution_count": null,
      "outputs": [
        {
          "output_type": "stream",
          "name": "stdout",
          "text": [
            "MonoDepth-PyTorch-master      monodepth_resnet18_001.pth\n",
            "MonoDepth-PyTorch-master.zip\n"
          ]
        }
      ]
    },
    {
      "cell_type": "code",
      "source": [
        "!mkdir -p models data/models data/output data/test/left/image_02/data/\n",
        "!cp /content/drive/MyDrive/MDE_Capstone/PreReq/monodepth_resnet18_001.pth data/models/\n",
        "#!ls -lR /content/"
      ],
      "metadata": {
        "id": "SMW_ScrJKZog",
        "collapsed": true
      },
      "execution_count": null,
      "outputs": []
    },
    {
      "cell_type": "code",
      "source": [
        "!cp /content/drive/MyDrive/MDE_Capstone/PreReq/MonoDepth-PyTorch-master/*.py /content"
      ],
      "metadata": {
        "id": "u8kFGsAFGj9R"
      },
      "execution_count": null,
      "outputs": []
    },
    {
      "cell_type": "code",
      "source": [
        "import main_monodepth_pytorch, loss, transforms, data_loader, models_resnet"
      ],
      "metadata": {
        "id": "GQgaOJAHGq-_"
      },
      "execution_count": null,
      "outputs": []
    },
    {
      "cell_type": "code",
      "execution_count": null,
      "metadata": {
        "id": "vljq3QYxFdYe"
      },
      "outputs": [],
      "source": [
        "import os\n",
        "import torch\n",
        "import numpy as np\n",
        "import skimage.transform\n",
        "import matplotlib.pyplot as plt\n",
        "from easydict import EasyDict as edict\n",
        "from pathlib import Path\n",
        "\n",
        "from main_monodepth_pytorch import Model\n",
        "%reload_ext autoreload\n",
        "%autoreload 2"
      ]
    },
    {
      "cell_type": "code",
      "source": [
        "!ls /content/drive/MyDrive/MDE_DS/kitti/\n",
        "!ls /content/drive/MyDrive/MDE_DS/kitti/train/\n"
      ],
      "metadata": {
        "colab": {
          "base_uri": "https://localhost:8080/"
        },
        "id": "D2ed706mSlQ_",
        "outputId": "b115feb7-9eb1-4f5c-c086-77082a548f6e"
      },
      "execution_count": null,
      "outputs": [
        {
          "output_type": "stream",
          "name": "stdout",
          "text": [
            "train  val\n",
            "2011_09_26_drive_0001_sync  2011_09_26_drive_0064_sync\n",
            "2011_09_26_drive_0005_sync  2011_09_26_drive_0070_sync\n",
            "2011_09_26_drive_0009_sync  2011_09_26_drive_0084_sync\n",
            "2011_09_26_drive_0011_sync  2011_09_26_drive_0086_sync\n",
            "2011_09_26_drive_0013_sync  2011_09_26_drive_0087_sync\n",
            "2011_09_26_drive_0015_sync  2011_09_26_drive_0091_sync\n",
            "2011_09_26_drive_0017_sync  2011_09_26_drive_0093_sync\n",
            "2011_09_26_drive_0018_sync  2011_09_26_drive_0095_sync\n",
            "2011_09_26_drive_0019_sync  2011_09_26_drive_0096_sync\n",
            "2011_09_26_drive_0022_sync  2011_09_26_drive_0101_sync\n",
            "2011_09_26_drive_0023_sync  2011_09_26_drive_0104_sync\n",
            "2011_09_26_drive_0027_sync  2011_09_26_drive_0106_sync\n",
            "2011_09_26_drive_0028_sync  2011_09_26_drive_0113_sync\n",
            "2011_09_26_drive_0029_sync  2011_09_26_drive_0117_sync\n",
            "2011_09_26_drive_0032_sync  2011_09_28_drive_0001_sync\n",
            "2011_09_26_drive_0035_sync  2011_09_28_drive_0002_sync\n",
            "2011_09_26_drive_0036_sync  2011_09_29_drive_0004_sync\n",
            "2011_09_26_drive_0039_sync  2011_09_29_drive_0026_sync\n",
            "2011_09_26_drive_0046_sync  2011_09_30_drive_0016_sync\n",
            "2011_09_26_drive_0048_sync  2011_09_30_drive_0018_sync\n",
            "2011_09_26_drive_0051_sync  2011_09_30_drive_0020_sync\n",
            "2011_09_26_drive_0052_sync  2011_09_30_drive_0027_sync\n",
            "2011_09_26_drive_0056_sync  2011_09_30_drive_0028_sync\n",
            "2011_09_26_drive_0057_sync  2011_09_30_drive_0034_sync\n",
            "2011_09_26_drive_0059_sync  2011_10_03_drive_0027_sync\n",
            "2011_09_26_drive_0060_sync  2011_10_03_drive_0034_sync\n",
            "2011_09_26_drive_0061_sync  2011_10_03_drive_0047_sync\n"
          ]
        }
      ]
    },
    {
      "cell_type": "code",
      "source": [
        "!ls -l /content/drive/MyDrive/MDE_DS/kitti/train/2011_10_03_drive_0047_sync/image_02/data/*.png | wc -l\n",
        "!ls -l /content/drive/MyDrive/MDE_DS/kitti/train/2011_10_03_drive_0047_sync/image_03/data/*.png | wc -l\n"
      ],
      "metadata": {
        "colab": {
          "base_uri": "https://localhost:8080/"
        },
        "id": "tV8sbDk8ZQPB",
        "outputId": "590007e8-020c-4b17-a3ce-73622b4a5219"
      },
      "execution_count": null,
      "outputs": [
        {
          "output_type": "stream",
          "name": "stdout",
          "text": [
            "837\n",
            "837\n"
          ]
        }
      ]
    },
    {
      "cell_type": "code",
      "source": [
        "KITTI_ROOT = Path(\"/content/drive/MyDrive/MDE_DS/kitti\")\n",
        "KITTI_VAL, KITTI_TRAIN = KITTI_ROOT / \"val\", KITTI_ROOT / \"train\"\n",
        "#!ls $KITTI_TRAIN $KITTI_VAL"
      ],
      "metadata": {
        "id": "yQruZAmeA_di"
      },
      "execution_count": null,
      "outputs": []
    },
    {
      "cell_type": "code",
      "source": [
        "#Copy files for testing\n",
        "!cp $KITTI_VAL/2011_09_26_drive_0014_sync/image_02/data/* /content/data/test/left/image_02/data/\n",
        "!ls $KITTI_VAL/2011_09_26_drive_0014_sync/image_02/data | wc -l"
      ],
      "metadata": {
        "colab": {
          "base_uri": "https://localhost:8080/"
        },
        "id": "2GGy-SApCuqP",
        "outputId": "7712d988-720a-4c97-e37d-ab094b13c0b9"
      },
      "execution_count": null,
      "outputs": [
        {
          "output_type": "stream",
          "name": "stdout",
          "text": [
            "314\n"
          ]
        }
      ]
    },
    {
      "cell_type": "code",
      "source": [
        "!ls -l /content/data/test/left/image_02/data/ | wc -l "
      ],
      "metadata": {
        "colab": {
          "base_uri": "https://localhost:8080/"
        },
        "id": "Utjs0atlT_dE",
        "outputId": "fd064c66-98ca-4ec1-8f62-831912224fa4"
      },
      "execution_count": null,
      "outputs": [
        {
          "output_type": "stream",
          "name": "stdout",
          "text": [
            "315\n"
          ]
        }
      ]
    },
    {
      "cell_type": "code",
      "source": [
        "#!ls -l $KITTI_VAL/2011_09_26_drive_0014_sync/image_02/data"
      ],
      "metadata": {
        "colab": {
          "base_uri": "https://localhost:8080/"
        },
        "collapsed": true,
        "id": "jkdGzBQeUgVW",
        "outputId": "442ed302-8f64-4f73-9853-614201a18a4f"
      },
      "execution_count": null,
      "outputs": [
        {
          "output_type": "stream",
          "name": "stdout",
          "text": [
            "total 31742\n",
            "-rw------- 1 root root 908046 Jan  9  2012 0000000004.png\n",
            "-rw------- 1 root root 916900 Jan  9  2012 0000000008.png\n",
            "-rw------- 1 root root 886090 Jan  9  2012 0000000019.png\n",
            "-rw------- 1 root root 868121 Jan  9  2012 0000000021.png\n",
            "-rw------- 1 root root 859420 Jan  9  2012 0000000024.png\n",
            "-rw------- 1 root root 856396 Jan  9  2012 0000000033.png\n",
            "-rw------- 1 root root 845296 Jan  9  2012 0000000042.png\n",
            "-rw------- 1 root root 853400 Jan  9  2012 0000000045.png\n",
            "-rw------- 1 root root 858366 Jan  9  2012 0000000047.png\n",
            "-rw------- 1 root root 849762 Jan  9  2012 0000000061.png\n",
            "-rw------- 1 root root 827945 Jan  9  2012 0000000068.png\n",
            "-rw------- 1 root root 796086 Jan  9  2012 0000000077.png\n",
            "-rw------- 1 root root 782705 Jan  9  2012 0000000081.png\n",
            "-rw------- 1 root root 791470 Jan  9  2012 0000000085.png\n",
            "-rw------- 1 root root 803190 Jan  9  2012 0000000089.png\n",
            "-rw------- 1 root root 754376 Jan  9  2012 0000000103.png\n",
            "-rw------- 1 root root 776447 Jan  9  2012 0000000106.png\n",
            "-rw------- 1 root root 801318 Jan  9  2012 0000000109.png\n",
            "-rw------- 1 root root 789915 Jan  9  2012 0000000112.png\n",
            "-rw------- 1 root root 828173 Jan  9  2012 0000000115.png\n",
            "-rw------- 1 root root 815560 Jan  9  2012 0000000126.png\n",
            "-rw------- 1 root root 819044 Jan  9  2012 0000000131.png\n",
            "-rw------- 1 root root 829918 Jan  9  2012 0000000132.png\n",
            "-rw------- 1 root root 783498 Jan  9  2012 0000000142.png\n",
            "-rw------- 1 root root 778206 Jan  9  2012 0000000159.png\n",
            "-rw------- 1 root root 769393 Jan  9  2012 0000000172.png\n",
            "-rw------- 1 root root 814112 Jan  9  2012 0000000188.png\n",
            "-rw------- 1 root root 832640 Jan  9  2012 0000000194.png\n",
            "-rw------- 1 root root 814108 Jan  9  2012 0000000205.png\n",
            "-rw------- 1 root root 829450 Jan  9  2012 0000000209.png\n",
            "-rw------- 1 root root 846989 Jan  9  2012 0000000233.png\n",
            "-rw------- 1 root root 838620 Jan  9  2012 0000000236.png\n",
            "-rw------- 1 root root 818217 Jan  9  2012 0000000248.png\n",
            "-rw------- 1 root root 830209 Jan  9  2012 0000000251.png\n",
            "-rw------- 1 root root 806091 Jan  9  2012 0000000255.png\n",
            "-rw------- 1 root root 789467 Jan  9  2012 0000000257.png\n",
            "-rw------- 1 root root 712037 Jan  9  2012 0000000291.png\n",
            "-rw------- 1 root root 711270 Jan  9  2012 0000000293.png\n",
            "-rw------- 1 root root 727339 Jan  9  2012 0000000303.png\n",
            "-rw------- 1 root root 675135 Jan  9  2012 0000000313.png\n"
          ]
        }
      ]
    },
    {
      "cell_type": "markdown",
      "metadata": {
        "id": "PbNenKwAFdYr"
      },
      "source": [
        "## Train"
      ]
    },
    {
      "cell_type": "markdown",
      "metadata": {
        "id": "vW3LcUjRFdYx"
      },
      "source": [
        "Check if CUDA is available"
      ]
    },
    {
      "cell_type": "code",
      "execution_count": null,
      "metadata": {
        "id": "qAyfPcK7FdYy",
        "colab": {
          "base_uri": "https://localhost:8080/"
        },
        "outputId": "cbef4131-b02a-4c21-c4f5-82e4ca7e740c"
      },
      "outputs": [
        {
          "output_type": "execute_result",
          "data": {
            "text/plain": [
              "True"
            ]
          },
          "metadata": {},
          "execution_count": 10
        }
      ],
      "source": [
        "torch.cuda.is_available()"
      ]
    },
    {
      "cell_type": "code",
      "execution_count": null,
      "metadata": {
        "id": "8rE-bXmzFdYz",
        "colab": {
          "base_uri": "https://localhost:8080/"
        },
        "outputId": "8e418950-a4db-4aff-d8a6-569df54e72c3"
      },
      "outputs": [
        {
          "output_type": "execute_result",
          "data": {
            "text/plain": [
              "1"
            ]
          },
          "metadata": {},
          "execution_count": 11
        }
      ],
      "source": [
        "torch.cuda.device_count()"
      ]
    },
    {
      "cell_type": "code",
      "execution_count": null,
      "metadata": {
        "id": "r4CDSy-fFdY0"
      },
      "outputs": [],
      "source": [
        "torch.cuda.empty_cache()"
      ]
    },
    {
      "cell_type": "markdown",
      "source": [
        "**Training Dataset(s)**"
      ],
      "metadata": {
        "id": "KZW_fencIyHb"
      }
    },
    {
      "cell_type": "code",
      "execution_count": null,
      "metadata": {
        "id": "j1alHxwqFdY1"
      },
      "outputs": [],
      "source": [
        "dict_parameters = edict({'data_dir':KITTI_TRAIN,\n",
        "                         'val_data_dir':KITTI_VAL,\n",
        "                         'model_path':'data/models/monodepth_resnet18_001.pth',\n",
        "                         'output_directory':'data/output/',\n",
        "                         'input_height':256,\n",
        "                         'input_width':512,\n",
        "                         'model':'resnet18_md',\n",
        "                         'pretrained':True,\n",
        "                         'mode':'train',\n",
        "                         'epochs':200,\n",
        "                         'learning_rate':1e-4,\n",
        "                         'batch_size': 8,\n",
        "                         'adjust_lr':True,\n",
        "                         'device':'cuda:0',\n",
        "                         'do_augmentation':True,\n",
        "                         'augment_parameters':[0.8, 1.2, 0.5, 2.0, 0.8, 1.2],\n",
        "                         'print_images':False,\n",
        "                         'print_weights':False,\n",
        "                         'input_channels': 3,\n",
        "                         'num_workers': 8,\n",
        "                         'use_multiple_gpu': False})"
      ]
    },
    {
      "cell_type": "code",
      "source": [
        "!ls -l /content/drive/MyDrive/MDE_DS/kitti/val/2011_09_26_drive_0014_sync/image_02/data/*.png | wc -l\n",
        "!ls -l /content/drive/MyDrive/MDE_DS/kitti/val/2011_09_26_drive_0014_sync/image_03/data/*.png | wc -l\n"
      ],
      "metadata": {
        "colab": {
          "base_uri": "https://localhost:8080/"
        },
        "id": "ZTaSSHA1XPFL",
        "outputId": "48091eea-7377-47d6-c99e-7cec3564f524"
      },
      "execution_count": null,
      "outputs": [
        {
          "output_type": "stream",
          "name": "stdout",
          "text": [
            "314\n",
            "314\n"
          ]
        }
      ]
    },
    {
      "cell_type": "code",
      "execution_count": null,
      "metadata": {
        "id": "eRFMGbPJFdY4",
        "colab": {
          "base_uri": "https://localhost:8080/"
        },
        "outputId": "4041f56f-6749-40be-c09e-bcf631030067"
      },
      "outputs": [
        {
          "output_type": "stream",
          "name": "stdout",
          "text": [
            "Use a dataset with 4400 images\n",
            "Use a dataset with 37982 images\n"
          ]
        }
      ],
      "source": [
        "model = Model(dict_parameters)\n",
        "#model.load('data/models/monodepth_resnet18_001_last.pth')"
      ]
    },
    {
      "cell_type": "code",
      "source": [
        "!date"
      ],
      "metadata": {
        "id": "1b_PZolLU9Ja",
        "colab": {
          "base_uri": "https://localhost:8080/"
        },
        "outputId": "b1fd41e1-0229-4f3e-d328-cd59cbf79434"
      },
      "execution_count": null,
      "outputs": [
        {
          "output_type": "stream",
          "name": "stdout",
          "text": [
            "Fri Jan 13 04:12:18 UTC 2023\n"
          ]
        }
      ]
    },
    {
      "cell_type": "code",
      "execution_count": null,
      "metadata": {
        "scrolled": true,
        "id": "8IWcjwF7FdY6",
        "colab": {
          "base_uri": "https://localhost:8080/"
        },
        "outputId": "2c76d8bd-0094-4715-b290-9516578e25c3"
      },
      "outputs": [
        {
          "metadata": {
            "tags": null
          },
          "name": "stderr",
          "output_type": "stream",
          "text": [
            "/usr/local/lib/python3.8/dist-packages/torch/nn/functional.py:4227: UserWarning: Default grid_sample and affine_grid behavior has changed to align_corners=False since 1.3.0. Please specify align_corners=True if the old behavior is desired. See the documentation of grid_sample for details.\n",
            "  warnings.warn(\n"
          ]
        },
        {
          "output_type": "stream",
          "name": "stdout",
          "text": [
            "Val_loss: 3.111454901261763\n",
            "Epoch: 1 train_loss: 2.402259126356582 val_loss: 2.0572396917776627 time: 8376.465 s\n",
            "Model_saved\n",
            "Epoch: 2 train_loss: 2.025853875500539 val_loss: 1.7984904891794378 time: 6438.341 s\n",
            "Model_saved\n",
            "Epoch: 3 train_loss: 1.7834488837227211 val_loss: 1.6649380081350154 time: 7153.561 s\n",
            "Model_saved\n"
          ]
        }
      ],
      "source": [
        "model.train()"
      ]
    },
    {
      "cell_type": "code",
      "source": [
        "!date"
      ],
      "metadata": {
        "id": "0Hd6hTrJTyvg"
      },
      "execution_count": null,
      "outputs": []
    },
    {
      "cell_type": "markdown",
      "metadata": {
        "id": "6qjxH9WVFdY8"
      },
      "source": [
        "## Test the model"
      ]
    },
    {
      "cell_type": "code",
      "execution_count": null,
      "metadata": {
        "id": "db5FNV0SFdY9"
      },
      "outputs": [],
      "source": [
        "dict_parameters_test = edict({'data_dir':'data/test',\n",
        "                              'model_path':'data/models/monodepth_resnet18_001_cpt.pth',\n",
        "                              'output_directory':'data/output/',\n",
        "                              'input_height':256,\n",
        "                              'input_width':512,\n",
        "                              'model':'resnet18_md',\n",
        "                              'pretrained':False,\n",
        "                              'mode':'test',\n",
        "                              'device':'cuda:0',\n",
        "                              'input_channels':3,\n",
        "                              'num_workers':4,\n",
        "                              'use_multiple_gpu':False})\n",
        "model_test = Model(dict_parameters_test)"
      ]
    },
    {
      "cell_type": "code",
      "execution_count": null,
      "metadata": {
        "id": "qImpYgxaFdY_"
      },
      "outputs": [],
      "source": [
        "model_test.test()"
      ]
    },
    {
      "cell_type": "code",
      "execution_count": null,
      "metadata": {
        "id": "MDUAQ9pHFdZA"
      },
      "outputs": [],
      "source": [
        "disp = np.load('data/output/disparities_pp.npy')  # Or disparities.npy for output without post-processing\n",
        "disp.shape"
      ]
    },
    {
      "cell_type": "code",
      "execution_count": null,
      "metadata": {
        "id": "EOK6HTbVFdZB"
      },
      "outputs": [],
      "source": [
        "disp_to_img = skimage.transform.resize(disp[0].squeeze(), [375, 1242], mode='constant')\n",
        "plt.imshow(disp_to_img, cmap='plasma')"
      ]
    },
    {
      "cell_type": "markdown",
      "metadata": {
        "id": "E5KkWZPdFdZC"
      },
      "source": [
        "Save a color image"
      ]
    },
    {
      "cell_type": "code",
      "execution_count": null,
      "metadata": {
        "id": "F2PEkM0QFdZC"
      },
      "outputs": [],
      "source": [
        "plt.imsave(os.path.join(dict_parameters_test.output_directory,\n",
        "                        dict_parameters_test.model_path.split('/')[-1][:-4]+'_test_output.png'), disp_to_img, cmap='plasma')"
      ]
    },
    {
      "cell_type": "markdown",
      "metadata": {
        "id": "Yoaq01NDFdZD"
      },
      "source": [
        "Save all test images"
      ]
    },
    {
      "cell_type": "code",
      "execution_count": null,
      "metadata": {
        "id": "y-vdYFSQFdZE"
      },
      "outputs": [],
      "source": [
        "for i in range(disp.shape[0]):\n",
        "    disp_to_img = skimage.transform.resize(disp[i].squeeze(), [375, 1242], mode='constant')\n",
        "    plt.imsave(os.path.join(dict_parameters_test.output_directory,\n",
        "               'pred_'+str(i)+'.png'), disp_to_img, cmap='plasma')"
      ]
    },
    {
      "cell_type": "markdown",
      "metadata": {
        "id": "mJRURaR1FdZE"
      },
      "source": [
        "Save a grayscale image"
      ]
    },
    {
      "cell_type": "code",
      "execution_count": null,
      "metadata": {
        "id": "qwwbCU4IFdZF"
      },
      "outputs": [],
      "source": [
        "plt.imsave(os.path.join(dict_parameters_test.output_directory,\n",
        "                        dict_parameters_test.model_path.split('/')[-1][:-4]+'_gray.png'), disp_to_img, cmap='gray')"
      ]
    },
    {
      "cell_type": "code",
      "source": [],
      "metadata": {
        "id": "-1J0YGwIeE68"
      },
      "execution_count": null,
      "outputs": []
    },
    {
      "cell_type": "code",
      "execution_count": null,
      "metadata": {
        "id": "XSqHadJpFdZG"
      },
      "outputs": [],
      "source": [
        "!ls -l /content/data/output"
      ]
    },
    {
      "cell_type": "code",
      "source": [
        "!zip 13Dec22_run.zip /content/data/output/*.* /content/data/test/left/image_02/data/*.* /content/data/models/*.*"
      ],
      "metadata": {
        "id": "k2n3fIhbeE-B"
      },
      "execution_count": null,
      "outputs": []
    },
    {
      "cell_type": "code",
      "source": [],
      "metadata": {
        "id": "zPIjC28feG0M"
      },
      "execution_count": null,
      "outputs": []
    }
  ],
  "metadata": {
    "kernelspec": {
      "display_name": "Python 3",
      "language": "python",
      "name": "python3"
    },
    "language_info": {
      "codemirror_mode": {
        "name": "ipython",
        "version": 3
      },
      "file_extension": ".py",
      "mimetype": "text/x-python",
      "name": "python",
      "nbconvert_exporter": "python",
      "pygments_lexer": "ipython3",
      "version": "3.6.5"
    },
    "colab": {
      "provenance": [],
      "machine_shape": "hm"
    },
    "accelerator": "GPU",
    "gpuClass": "premium"
  },
  "nbformat": 4,
  "nbformat_minor": 0
}