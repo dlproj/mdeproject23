{
  "nbformat": 4,
  "nbformat_minor": 0,
  "metadata": {
    "colab": {
      "provenance": []
    },
    "kernelspec": {
      "name": "python3",
      "display_name": "Python 3"
    },
    "language_info": {
      "name": "python"
    }
  },
  "cells": [
    {
      "cell_type": "markdown",
      "source": [
        "**Get the metrices for DISP18 and DISP50**"
      ],
      "metadata": {
        "id": "xlkieqEfbbs2"
      }
    },
    {
      "cell_type": "code",
      "execution_count": 6,
      "metadata": {
        "id": "o3h5UUZbzDAS"
      },
      "outputs": [],
      "source": [
        "import numpy as np\n",
        "import matplotlib.image as im\n",
        "import matplotlib.pyplot as plt\n",
        "from PIL import Image\n",
        "from pathlib import Path\n",
        "import cv2\n",
        "from os import listdir"
      ]
    },
    {
      "cell_type": "code",
      "source": [
        "from evaluation_utils import compute_errors, convert_disps_to_depths_kitti, width_to_focal"
      ],
      "metadata": {
        "id": "olM1PsrvH2qZ"
      },
      "execution_count": 105,
      "outputs": []
    },
    {
      "cell_type": "code",
      "source": [
        "!unzip -qq /content/drive/MyDrive/ForMetrics/MetricsData.zip"
      ],
      "metadata": {
        "collapsed": true,
        "id": "FZDm0CEVzdSq"
      },
      "execution_count": 1,
      "outputs": []
    },
    {
      "cell_type": "code",
      "source": [
        "TEST_TRN = \"/content/MetricsData/TestImages/2011_09_26_drive_0001_sync\"\n",
        "TEST_VAL = \"/content/MetricsData/TestImages/2011_09_26_drive_0020_sync\"\n",
        "GNDT_TRN = \"/content/MetricsData/GroundTruth/train/2011_09_26_drive_0001_sync\"\n",
        "GNDT_VAL = \"/content/MetricsData/GroundTruth/val/2011_09_26_drive_0020_sync\"\n",
        "DISP18 = \"/content/MetricsData/Disparities/Resnet18\"\n",
        "DISP50 = \"/content/MetricsData/Disparities/Resnet50\""
      ],
      "metadata": {
        "id": "F327NIrDzuVo"
      },
      "execution_count": 106,
      "outputs": []
    },
    {
      "cell_type": "code",
      "source": [
        "def load_gt_disp_KITTI(paths):\n",
        "    gt_disparities = []\n",
        "    for path in paths:\n",
        "        for file1 in sorted(listdir(path)):\n",
        "            fpath = Path(path) / file1\n",
        "            print(fpath)\n",
        "            disp = cv2.imread(str(fpath), -1)\n",
        "            disp = disp.astype(np.float32) / 256\n",
        "            gt_disparities.append(disp)            \n",
        "    return gt_disparities"
      ],
      "metadata": {
        "id": "mQYA2ZbD9q7N"
      },
      "execution_count": 107,
      "outputs": []
    },
    {
      "cell_type": "code",
      "source": [
        "gt_disparities = load_gt_disp_KITTI([GNDT_VAL, GNDT_TRN])"
      ],
      "metadata": {
        "colab": {
          "base_uri": "https://localhost:8080/"
        },
        "id": "-4PKcq6cAx5q",
        "outputId": "21fcb5a7-bdad-4dd3-92b9-23d453bbdaa7"
      },
      "execution_count": 108,
      "outputs": [
        {
          "output_type": "stream",
          "name": "stdout",
          "text": [
            "/content/MetricsData/GroundTruth/val/2011_09_26_drive_0020_sync/0000000070.png\n",
            "/content/MetricsData/GroundTruth/val/2011_09_26_drive_0020_sync/0000000071.png\n",
            "/content/MetricsData/GroundTruth/val/2011_09_26_drive_0020_sync/0000000072.png\n",
            "/content/MetricsData/GroundTruth/val/2011_09_26_drive_0020_sync/0000000073.png\n",
            "/content/MetricsData/GroundTruth/val/2011_09_26_drive_0020_sync/0000000074.png\n",
            "/content/MetricsData/GroundTruth/val/2011_09_26_drive_0020_sync/0000000075.png\n",
            "/content/MetricsData/GroundTruth/val/2011_09_26_drive_0020_sync/0000000076.png\n",
            "/content/MetricsData/GroundTruth/val/2011_09_26_drive_0020_sync/0000000077.png\n",
            "/content/MetricsData/GroundTruth/val/2011_09_26_drive_0020_sync/0000000078.png\n",
            "/content/MetricsData/GroundTruth/val/2011_09_26_drive_0020_sync/0000000079.png\n",
            "/content/MetricsData/GroundTruth/train/2011_09_26_drive_0001_sync/0000000090.png\n",
            "/content/MetricsData/GroundTruth/train/2011_09_26_drive_0001_sync/0000000091.png\n",
            "/content/MetricsData/GroundTruth/train/2011_09_26_drive_0001_sync/0000000092.png\n",
            "/content/MetricsData/GroundTruth/train/2011_09_26_drive_0001_sync/0000000093.png\n",
            "/content/MetricsData/GroundTruth/train/2011_09_26_drive_0001_sync/0000000094.png\n",
            "/content/MetricsData/GroundTruth/train/2011_09_26_drive_0001_sync/0000000095.png\n",
            "/content/MetricsData/GroundTruth/train/2011_09_26_drive_0001_sync/0000000096.png\n",
            "/content/MetricsData/GroundTruth/train/2011_09_26_drive_0001_sync/0000000097.png\n",
            "/content/MetricsData/GroundTruth/train/2011_09_26_drive_0001_sync/0000000098.png\n",
            "/content/MetricsData/GroundTruth/train/2011_09_26_drive_0001_sync/0000000099.png\n"
          ]
        }
      ]
    },
    {
      "cell_type": "code",
      "source": [
        "len(gt_disparities), gt_disparities[0].shape"
      ],
      "metadata": {
        "colab": {
          "base_uri": "https://localhost:8080/"
        },
        "id": "aO2YkZeFBSor",
        "outputId": "a1740218-a805-496e-96e1-9c19a563e4a9"
      },
      "execution_count": 109,
      "outputs": [
        {
          "output_type": "execute_result",
          "data": {
            "text/plain": [
              "(20, (375, 1242))"
            ]
          },
          "metadata": {},
          "execution_count": 109
        }
      ]
    },
    {
      "cell_type": "code",
      "source": [
        "#pred_disparities = np.load(args.predicted_disp_path)\n",
        "pred_disparities50 = np.load(Path(DISP50) / \"disparities_pp.npy\")"
      ],
      "metadata": {
        "id": "ljnGpblMBji7"
      },
      "execution_count": 110,
      "outputs": []
    },
    {
      "cell_type": "code",
      "source": [
        "pred_disparities50.shape"
      ],
      "metadata": {
        "colab": {
          "base_uri": "https://localhost:8080/"
        },
        "id": "wMD40VU5BjcM",
        "outputId": "0f863175-c0f0-41af-9835-2e084a0f6e9a"
      },
      "execution_count": 111,
      "outputs": [
        {
          "output_type": "execute_result",
          "data": {
            "text/plain": [
              "(20, 256, 512)"
            ]
          },
          "metadata": {},
          "execution_count": 111
        }
      ]
    },
    {
      "cell_type": "code",
      "source": [
        "gt_depths, pred_depths, pred_disparities_resized = convert_disps_to_depths_kitti(gt_disparities, pred_disparities50)"
      ],
      "metadata": {
        "id": "jVvcfyYFBjXH"
      },
      "execution_count": 112,
      "outputs": []
    },
    {
      "cell_type": "code",
      "source": [
        "len(gt_depths), gt_depths[0].shape, len(pred_depths) ,pred_depths[0].shape, len(pred_disparities_resized), pred_disparities_resized[0].shape"
      ],
      "metadata": {
        "colab": {
          "base_uri": "https://localhost:8080/"
        },
        "id": "_QNj8rhBDx-E",
        "outputId": "47fb832a-b4cf-4dc0-b938-86b28f0eb43d"
      },
      "execution_count": 113,
      "outputs": [
        {
          "output_type": "execute_result",
          "data": {
            "text/plain": [
              "(20, (375, 1242), 20, (375, 1242), 20, (375, 1242))"
            ]
          },
          "metadata": {},
          "execution_count": 113
        }
      ]
    },
    {
      "cell_type": "code",
      "source": [
        "num_samples = len(gt_depths)\n",
        "rms     = np.zeros(num_samples, np.float32)\n",
        "log_rms = np.zeros(num_samples, np.float32)\n",
        "abs_rel = np.zeros(num_samples, np.float32)\n",
        "sq_rel  = np.zeros(num_samples, np.float32)\n",
        "d1_all  = np.zeros(num_samples, np.float32)\n",
        "a1      = np.zeros(num_samples, np.float32)\n",
        "a2      = np.zeros(num_samples, np.float32)\n",
        "a3      = np.zeros(num_samples, np.float32)"
      ],
      "metadata": {
        "id": "8TgjH4lxDx7-"
      },
      "execution_count": 114,
      "outputs": []
    },
    {
      "cell_type": "code",
      "source": [
        "#width = 1242\n",
        "class args:    #Jag: Asumption Do some research\n",
        "  min_depth = np.min(gt_depths)\n",
        "  max_depth = np.max(gt_depths) #Jag:\n",
        "  split = 'kitti'"
      ],
      "metadata": {
        "id": "DJ7-jMXMGsvz"
      },
      "execution_count": 115,
      "outputs": []
    },
    {
      "cell_type": "code",
      "source": [
        "args.min_depth, args.max_depth, args.split, np.max(gt_depths)"
      ],
      "metadata": {
        "colab": {
          "base_uri": "https://localhost:8080/"
        },
        "id": "ZOojqBbXKam0",
        "outputId": "100f5e24-8577-40e5-ec9a-ce2e2490b754"
      },
      "execution_count": 116,
      "outputs": [
        {
          "output_type": "execute_result",
          "data": {
            "text/plain": [
              "(4.790153755366662, 389.630358, 'kitti', 389.630358)"
            ]
          },
          "metadata": {},
          "execution_count": 116
        }
      ]
    },
    {
      "cell_type": "code",
      "source": [
        "for i in range(num_samples):\n",
        "    \n",
        "    gt_depth = gt_depths[i]\n",
        "    pred_depth = pred_depths[i]\n",
        "\n",
        "    pred_depth[pred_depth < args.min_depth] = args.min_depth\n",
        "    pred_depth[pred_depth > args.max_depth] = args.max_depth\n",
        "    \n",
        "    if args.split == 'kitti':\n",
        "        gt_disp = gt_disparities[i]\n",
        "        mask = gt_disp > 0\n",
        "        pred_disp = pred_disparities_resized[i]\n",
        "\n",
        "        disp_diff = np.abs(gt_disp[mask] - pred_disp[mask])\n",
        "        bad_pixels = np.logical_and(disp_diff >= 3, (disp_diff / gt_disp[mask]) >= 0.05)\n",
        "        d1_all[i] = 100.0 * bad_pixels.sum() / mask.sum()\n",
        "\n",
        "    abs_rel[i], sq_rel[i], rms[i], log_rms[i], a1[i], a2[i], a3[i] = compute_errors(gt_depth[mask], pred_depth[mask])\n",
        "\n",
        "print(\"{:>10}, {:>10}, {:>10}, {:>10}, {:>10}, {:>10}, {:>10}, {:>10}\".format('abs_rel', 'sq_rel', 'rms', 'log_rms', 'd1_all', 'a1', 'a2', 'a3'))\n",
        "print(\"{:10.4f}, {:10.4f}, {:10.3f}, {:10.3f}, {:10.3f}, {:10.3f}, {:10.3f}, {:10.3f}\".format(abs_rel.mean(), sq_rel.mean(), rms.mean(), log_rms.mean(), d1_all.mean(), a1.mean(), a2.mean(), a3.mean()))"
      ],
      "metadata": {
        "colab": {
          "base_uri": "https://localhost:8080/"
        },
        "id": "Zx9oBCGrDx5I",
        "outputId": "9be02874-0387-47d2-8746-2055b8e13e90"
      },
      "execution_count": 117,
      "outputs": [
        {
          "output_type": "stream",
          "name": "stdout",
          "text": [
            "   abs_rel,     sq_rel,        rms,    log_rms,     d1_all,         a1,         a2,         a3\n",
            "    0.8121,    26.3189,     34.159,      1.936,    100.000,      0.012,      0.027,      0.045\n"
          ]
        }
      ]
    }
  ]
}